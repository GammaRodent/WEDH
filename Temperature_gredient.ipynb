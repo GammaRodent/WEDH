{
 "cells": [
  {
   "cell_type": "code",
   "execution_count": 4,
   "metadata": {},
   "outputs": [],
   "source": [
    "import numpy as np\n",
    "import matplotlib.pyplot as plt\n",
    "import math\n",
    "from pulp import *"
   ]
  },
  {
   "cell_type": "code",
   "execution_count": 5,
   "metadata": {},
   "outputs": [],
   "source": [
    "#Air Variable Declaration\n",
    "C = 700 #J kg-1 K-1\n",
    "dx = 0.01\n",
    "dy = 0.01\n",
    "dz = 0.01"
   ]
  },
  {
   "cell_type": "code",
   "execution_count": 6,
   "metadata": {},
   "outputs": [],
   "source": [
    "def sun_intensity(start_time,end_time,current_time,intensity,tilt_angle=0):\n",
    "    total_time = end_time-start_time\n",
    "    angle_of_sun = (current_time/total_time)*np.pi\n",
    "    ind_var = (math.sin(angle_of_sun)*math.cos(tilt_angle))\n",
    "    if ind_var == 0:\n",
    "        ind_var = 0.00001\n",
    "    intensity = intensity*1.4*0.7**(ind_var**-0.678)\n",
    "    x_intensity = int(intensity*math.cos(angle_of_sun))\n",
    "    y_intensity = int(intensity*math.sin(angle_of_sun)*math.cos(tilt_angle))\n",
    "    z_intensity = int(intensity*math.sin(angle_of_sun)*math.sin(tilt_angle))\n",
    "    return (x_intensity,y_intensity,z_intensity)"
   ]
  },
  {
   "cell_type": "code",
   "execution_count": null,
   "metadata": {},
   "outputs": [],
   "source": [
    "class temperature_gradient(object):\n",
    "    def cal_dif(self,i,j,k):\n",
    "        input_heat = (self.temp[i-1][j][k]-self.temp[i][j][k])+(self.temp[i][j-1][k]-self.temp[i][j][k])+(self.temp[i][j][k-1]-self.temp[i][j][k])\n",
    "        output_heat = (self.temp[i+1][j][k]-self.temp[i][j][k])+(self.temp[i][j+1][k]-self.temp[i][j][k])+(self.temp[i][j][k+1]-self.temp[i][j][k])\n",
    "        self.temp = -input_heat+output_heat\n",
    "\n",
    "    def main(self):\n",
    "        init_temp = 25\n",
    "        self.temp = [[[init_temp for _ in range(12)] for _ in range(12)] for _ in range(12)]\n",
    "        self.balance = [[[0 for _ in range(12)] for _ in range(12)] for _ in range(12)]\n",
    "        for t in range(720):\n",
    "            "
   ]
  },
  {
   "cell_type": "code",
   "execution_count": null,
   "metadata": {},
   "outputs": [],
   "source": [
    "prob = LpProblem('Sell', LpMaximize)"
   ]
  }
 ],
 "metadata": {
  "kernelspec": {
   "display_name": "Python 3",
   "language": "python",
   "name": "python3"
  },
  "language_info": {
   "codemirror_mode": {
    "name": "ipython",
    "version": 3
   },
   "file_extension": ".py",
   "mimetype": "text/x-python",
   "name": "python",
   "nbconvert_exporter": "python",
   "pygments_lexer": "ipython3",
   "version": "3.11.2"
  }
 },
 "nbformat": 4,
 "nbformat_minor": 2
}
