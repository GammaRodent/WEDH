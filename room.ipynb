{
 "cells": [
  {
   "cell_type": "code",
   "execution_count": null,
   "metadata": {},
   "outputs": [],
   "source": [
    "import numpy as np\n",
    "import matplotlib.pyplot as plt\n",
    "import math\n",
    "\n",
    "time = np.linspace(0,1000,1000)\n",
    "x_intensity = np.zeros(1000)\n",
    "y_intensity = np.zeros(1000)\n",
    "z_intensity = np.zeros(1000)\n",
    "\n",
    "for t in range(1000):\n",
    "    x,y,z = sun_intensity(0,1000,t,1380,np.pi/6)\n",
    "    x_intensity[t] = abs(x)\n",
    "    y_intensity[t] = y\n",
    "    z_intensity[t] = z\n",
    "\n",
    "#Declare Variable\n",
    "thickness = 2\n",
    "dl = 0.1\n",
    "dt = 0.0001\n",
    "c = 0.466\n",
    "time = 1000\n",
    "normal_temp = 150\n",
    "a = 1 #solar radiation absorptivity\n",
    "h = 1 #convection,radiation heat transfer coefficient\n",
    "temp_x_neg = normal_temp\n",
    "temp_y_neg = normal_temp\n",
    "temp_z_neg = normal_temp\n",
    "\n",
    "#Parameter of the room\n",
    "x_size = 20\n",
    "y_size = 20\n",
    "z_size = 20"
   ]
  },
  {
   "cell_type": "code",
   "execution_count": null,
   "metadata": {},
   "outputs": [],
   "source": [
    "#Sun Intensity\n",
    "def sun_intensity(start_time,end_time,current_time,intensity,tilt_angle=0):\n",
    "    total_time = end_time-start_time\n",
    "    angle_of_sun = (current_time/total_time)*np.pi\n",
    "    ind_var = (math.sin(angle_of_sun)*math.cos(tilt_angle))\n",
    "    if ind_var == 0:\n",
    "        ind_var = 0.00001\n",
    "    intensity = intensity*1.4*0.7**(ind_var**-0.678)\n",
    "    x_intensity = int(intensity*math.cos(angle_of_sun))\n",
    "    y_intensity = int(intensity*math.sin(angle_of_sun)*math.cos(tilt_angle))\n",
    "    z_intensity = int(intensity*math.sin(angle_of_sun)*math.sin(tilt_angle))\n",
    "    return (x_intensity,y_intensity,z_intensity)"
   ]
  },
  {
   "cell_type": "code",
   "execution_count": null,
   "metadata": {},
   "outputs": [],
   "source": [
    "## XY wall is the roof\n",
    "## YZ1 and YZ2 are the wall on the east and west\n",
    "## XZ1 and XZ2 are the wall on the north and south\n",
    "def setup_gradient_wall():\n",
    "    temp = [[[normal_temp for _ in range(x_size)] for _ in range(y_size)] for _ in range(z_size)]\n",
    "    \n",
    "    "
   ]
  },
  {
   "cell_type": "code",
   "execution_count": null,
   "metadata": {},
   "outputs": [],
   "source": [
    "temp1 = setup_gradient_wall()\n",
    "\n",
    "\n",
    "\n",
    "for t in range(time):\n",
    "    for i in range(x_size):\n",
    "        for j in range(y_size):\n",
    "            temp[0][i][j] = normal_temp + x_intensity*a/h\n",
    "            \n",
    "    for i in range(x_size):\n",
    "        for j in range(z_size):\n",
    "            temp[j][0][i] = normal_temp + y_intensity*a/h\n",
    "            \n",
    "    for i in range(y_size):\n",
    "        for j in range(z_size):\n",
    "            "
   ]
  },
  {
   "cell_type": "code",
   "execution_count": null,
   "metadata": {},
   "outputs": [],
   "source": []
  }
 ],
 "metadata": {
  "language_info": {
   "name": "python"
  }
 },
 "nbformat": 4,
 "nbformat_minor": 2
}
