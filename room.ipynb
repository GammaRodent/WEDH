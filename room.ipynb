{
 "cells": [
  {
   "cell_type": "code",
   "execution_count": null,
   "metadata": {},
   "outputs": [],
   "source": [
    "import numpy as np\n",
    "import matplotlib.pyplot as plt\n",
    "import math\n",
    "\n",
    "time = np.linspace(0,1000,1000)\n",
    "x_intensity = np.zeros(1000)\n",
    "y_intensity = np.zeros(1000)\n",
    "z_intensity = np.zeros(1000)\n",
    "\n",
    "for t in range(1000):\n",
    "    x,y,z = sun_intensity(0,1000,t,1380,np.pi/6)\n",
    "    x_intensity[t] = abs(x)\n",
    "    y_intensity[t] = y\n",
    "    z_intensity[t] = z\n",
    "\n",
    "#Declare Variable\n",
    "thickness = 2\n",
    "dl = 0.1\n",
    "dt = 0.0001\n",
    "c = 0.466\n",
    "time = 1000\n",
    "normal_temp = 150\n",
    "a = 1 #solar radiation absorptivity\n",
    "h = 1 #convection,radiation heat transfer coefficient\n",
    "temp_x_neg = normal_temp\n",
    "temp_y_neg = normal_temp\n",
    "temp_z_neg = normal_temp\n",
    "\n",
    "#Parameter of the room\n",
    "x_size = 20\n",
    "y_size = 20\n",
    "z_size = 20"
   ]
  },
  {
   "cell_type": "code",
   "execution_count": null,
   "metadata": {},
   "outputs": [],
   "source": [
    "#Sun Intensity\n",
    "def sun_intensity(start_time,end_time,current_time,intensity,tilt_angle=0):\n",
    "    total_time = end_time-start_time\n",
    "    angle_of_sun = (current_time/total_time)*np.pi\n",
    "    ind_var = (math.sin(angle_of_sun)*math.cos(tilt_angle))\n",
    "    if ind_var == 0:\n",
    "        ind_var = 0.00001\n",
    "    intensity = intensity*1.4*0.7**(ind_var**-0.678)\n",
    "    x_intensity = int(intensity*math.cos(angle_of_sun))\n",
    "    y_intensity = int(intensity*math.sin(angle_of_sun)*math.cos(tilt_angle))\n",
    "    z_intensity = int(intensity*math.sin(angle_of_sun)*math.sin(tilt_angle))\n",
    "    return (x_intensity,y_intensity,z_intensity)"
   ]
  },
  {
   "cell_type": "code",
   "execution_count": null,
   "metadata": {},
   "outputs": [],
   "source": [
    "## XY wall is the roof (0)\n",
    "## YZ1 and YZ2 are the wall on the east and west (1,2)\n",
    "## XZ1 and XZ2 are the wall on the north and south (3,4)\n",
    "\n",
    "def setup_gradient_wall():\n",
    "    temp_wall = [[normal_temp for _ in range(thickness/dl)] for _ in range(5)]\n",
    "    return temp_wall\n",
    "    \n",
    "def setup_gradient_air():\n",
    "    temp = [[[normal_temp for _ in range(x_size)] for _ in range(y_size)] for _ in range(z_size)]\n",
    "    return temp\n",
    "    "
   ]
  },
  {
   "cell_type": "code",
   "execution_count": null,
   "metadata": {},
   "outputs": [],
   "source": [
    "temp1 = setup_gradient_wall()\n",
    "for t in range(time):\n",
    "    temp2 = setup_gradient_wall()\n",
    "    \n",
    "    temp1[0][0] = normal_temp + int(a*z_intensity/h)\n",
    "    temp1[1][0] = normal_temp + int(a*max(0,x_intensity)/h)\n",
    "    temp1[2][0] = normal_temp + int(a*max(0,-1*x_intensity)/h)\n",
    "    temp1[3][0] = normal_temp + int(a*max(0,y_intensity)/h)\n",
    "    temp1[4][0] = normal_temp + int(a*max(0,y_intensity)/h)\n",
    "    \n",
    "    for i in range(5):\n",
    "        for j in range(1,thickness/dl-1):\n",
    "            dd_temp = temp1[i][j+1]+temp1[i][j-1]-2*temp1[i][j]\n",
    "            temp2[i][j] = c * dt/(dl**2) * (dd_temp) + temp1[i][j]\n",
    "    temp1 = np.copy(temp2)        "
   ]
  },
  {
   "cell_type": "code",
   "execution_count": null,
   "metadata": {},
   "outputs": [],
   "source": [
    "#displaying the data\n"
   ]
  }
 ],
 "metadata": {
  "language_info": {
   "name": "python"
  }
 },
 "nbformat": 4,
 "nbformat_minor": 2
}
