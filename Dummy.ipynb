{
 "cells": [
  {
   "cell_type": "code",
   "execution_count": 7,
   "metadata": {},
   "outputs": [],
   "source": [
    "import numpy as np\n",
    "import matplotlib.pyplot as plt\n",
    "import math\n",
    "from pulp import *"
   ]
  },
  {
   "cell_type": "code",
   "execution_count": 8,
   "metadata": {},
   "outputs": [],
   "source": [
    "class temperature_gradient(object):\n",
    "    def cal_dif(self,i,j,k):\n",
    "        instance = Lp(\"Gradient\",LpMinimize)\n",
    "        dict_var = LpVariable.dicts('var', indices=range(0,1000), lowBound=0, upBound=None, cat='Continu')\n",
    "\n",
    "        instance += lpSum([abs(dict_var[i])] for i in range)\n",
    "\n",
    "    def main(self):\n",
    "        init_temp = 25\n",
    "        self.temp = [[[init_temp for _ in range(12)] for _ in range(12)] for _ in range(12)]\n",
    "        self.balance = [[[0 for _ in range(12)] for _ in range(12)] for _ in range(12)]"
   ]
  }
 ],
 "metadata": {
  "kernelspec": {
   "display_name": "Python 3",
   "language": "python",
   "name": "python3"
  },
  "language_info": {
   "codemirror_mode": {
    "name": "ipython",
    "version": 3
   },
   "file_extension": ".py",
   "mimetype": "text/x-python",
   "name": "python",
   "nbconvert_exporter": "python",
   "pygments_lexer": "ipython3",
   "version": "3.11.2"
  }
 },
 "nbformat": 4,
 "nbformat_minor": 2
}
